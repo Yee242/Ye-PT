{
 "cells": [
  {
   "cell_type": "code",
   "execution_count": 3,
   "id": "9a0a661e-8b51-4d3e-9b3f-fb0b7b23e210",
   "metadata": {},
   "outputs": [
    {
     "name": "stdout",
     "output_type": "stream",
     "text": [
      "Defaulting to user installation because normal site-packages is not writeable\n",
      "Looking in indexes: https://pypi.tuna.tsinghua.edu.cn/simple\n",
      "Requirement already satisfied: requests in c:\\users\\86150\\appdata\\roaming\\python\\python311\\site-packages (2.32.3)\n",
      "Requirement already satisfied: charset-normalizer<4,>=2 in d:\\anaconda2024\\lib\\site-packages (from requests) (2.0.4)\n",
      "Requirement already satisfied: idna<4,>=2.5 in d:\\anaconda2024\\lib\\site-packages (from requests) (3.4)\n",
      "Requirement already satisfied: urllib3<3,>=1.21.1 in d:\\anaconda2024\\lib\\site-packages (from requests) (2.0.7)\n",
      "Requirement already satisfied: certifi>=2017.4.17 in d:\\anaconda2024\\lib\\site-packages (from requests) (2024.12.14)\n",
      "Note: you may need to restart the kernel to use updated packages.\n"
     ]
    }
   ],
   "source": [
    "pip install requests -i https://pypi.tuna.tsinghua.edu.cn/simple"
   ]
  },
  {
   "cell_type": "code",
   "execution_count": 5,
   "id": "5f527acf-efa1-4c05-8981-d697bcbdb227",
   "metadata": {},
   "outputs": [
    {
     "name": "stdout",
     "output_type": "stream",
     "text": [
      "开始爬取豆瓣电影排行榜数据...\n",
      "成功获取 10 条电影数据\n",
      "1. 肖申克的救赎 - 评分: 9.7 - 评语: 暂无评价\n",
      "2. 霸王别姬 - 评分: 9.6 - 评语: 暂无评价\n",
      "3. 泰坦尼克号 - 评分: 9.5 - 评语: 暂无评价\n",
      "4. 阿甘正传 - 评分: 9.5 - 评语: 暂无评价\n",
      "5. 千与千寻 - 评分: 9.4 - 评语: 暂无评价\n",
      "6. 美丽人生 - 评分: 9.5 - 评语: 暂无评价\n",
      "7. 这个杀手不太冷 - 评分: 9.4 - 评语: 暂无评价\n",
      "8. 星际穿越 - 评分: 9.4 - 评语: 暂无评价\n",
      "9. 盗梦空间 - 评分: 9.4 - 评语: 暂无评价\n",
      "10. 楚门的世界 - 评分: 9.4 - 评语: 暂无评价\n",
      "数据已保存到 豆瓣电影Top10.xlsx\n",
      "爬取完成\n"
     ]
    }
   ],
   "source": [
    "import requests\n",
    "from bs4 import BeautifulSoup\n",
    "import pandas as pd\n",
    "import time\n",
    "\n",
    "headers = {\n",
    "    'User-Agent': 'Mozilla/5.0 (Windows NT 10.0; Win64; x64) AppleWebKit/537.36 (KHTML, like Gecko) Chrome/58.0.3029.110 Safari/537.3'}\n",
    "\n",
    "def get_movie_info(url):\n",
    "    try:\n",
    "        response = requests.get(url, headers=headers, timeout=10)\n",
    "        response.raise_for_status()\n",
    "        response.encoding = response.apparent_encoding\n",
    "        return response.text\n",
    "    except requests.exceptions.RequestException as e:\n",
    "        print(f\"请求出错: {e}\")\n",
    "        return None\n",
    "\n",
    "def parse_movie_data(html_content):\n",
    "    if not html_content:\n",
    "        return []\n",
    "    \n",
    "    soup = BeautifulSoup(html_content, 'html.parser')\n",
    "    movie_list = []\n",
    "    \n",
    "    for item in soup.select('div.item')[:10]:\n",
    "        try:\n",
    "            rank = item.select_one('div.pic em').text.strip()\n",
    "            title = item.select_one('span.title').text.strip()\n",
    "            rating = item.select_one('span.rating_num').text.strip()\n",
    "            quote = item.select_one('span.inq')\n",
    "            quote = quote.text.strip() if quote else \"暂无评价\"\n",
    "            \n",
    "            movie_list.append({\n",
    "                '排名': rank,\n",
    "                '片名': title,\n",
    "                '评分': rating,\n",
    "                '评语': quote\n",
    "            })\n",
    "        except AttributeError:\n",
    "            continue\n",
    "    \n",
    "    return movie_list\n",
    "\n",
    "def save_to_excel(data, filename='豆瓣电影Top10.xlsx'):\n",
    "    df = pd.DataFrame(data)\n",
    "    df.to_excel(filename, index=False, engine='openpyxl')\n",
    "    print(f\"数据已保存到 {filename}\")\n",
    "\n",
    "if __name__ == \"__main__\":\n",
    "    url = 'https://movie.douban.com/top250'\n",
    "    print(\"开始爬取豆瓣电影排行榜数据...\")\n",
    "    \n",
    "    html_content = get_movie_info(url)\n",
    "    movie_data = parse_movie_data(html_content)\n",
    "    \n",
    "    if movie_data:\n",
    "        print(f\"成功获取 {len(movie_data)} 条电影数据\")\n",
    "        for movie in movie_data:\n",
    "            print(f\"{movie['排名']}. {movie['片名']} - 评分: {movie['评分']} - 评语: {movie['评语']}\")\n",
    "        \n",
    "        save_to_excel(movie_data)\n",
    "    else:\n",
    "        print(\"未能获取到电影数据\")\n",
    "    \n",
    "    print(\"爬取完成\")    "
   ]
  },
  {
   "cell_type": "code",
   "execution_count": null,
   "id": "61955af2-5542-49ad-8b53-d1b33dbc0dbb",
   "metadata": {},
   "outputs": [],
   "source": []
  }
 ],
 "metadata": {
  "kernelspec": {
   "display_name": "Python [conda env:base] *",
   "language": "python",
   "name": "conda-base-py"
  },
  "language_info": {
   "codemirror_mode": {
    "name": "ipython",
    "version": 3
   },
   "file_extension": ".py",
   "mimetype": "text/x-python",
   "name": "python",
   "nbconvert_exporter": "python",
   "pygments_lexer": "ipython3",
   "version": "3.11.7"
  }
 },
 "nbformat": 4,
 "nbformat_minor": 5
}
