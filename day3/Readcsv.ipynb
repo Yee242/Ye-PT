{
 "cells": [
  {
   "cell_type": "code",
   "execution_count": 3,
   "id": "2b298f5e-3649-4fd2-b61d-425e64f64fed",
   "metadata": {},
   "outputs": [
    {
     "name": "stdout",
     "output_type": "stream",
     "text": [
      "平均消耗啤酒最多的大陆是：EU\n",
      "\n",
      "各大陆红酒消耗（wine_servings）的描述性统计值：\n",
      "           count        mean        std  min   25%    50%     75%    max\n",
      "continent                                                               \n",
      "AF          53.0   16.264151  38.846419  0.0   1.0    2.0   13.00  233.0\n",
      "AS          44.0    9.068182  21.667034  0.0   0.0    1.0    8.00  123.0\n",
      "EU          45.0  142.222222  97.421738  0.0  59.0  128.0  195.00  370.0\n",
      "OC          16.0   35.625000  64.555790  0.0   1.0    8.5   23.25  212.0\n",
      "SA          12.0   62.416667  88.620189  1.0   3.0   12.0   98.50  221.0\n",
      "\n",
      "各大陆每种酒类别的消耗平均值：\n",
      "           beer_servings  spirit_servings  wine_servings\n",
      "continent                                               \n",
      "AF             61.471698        16.339623      16.264151\n",
      "AS             37.045455        60.840909       9.068182\n",
      "EU            193.777778       132.555556     142.222222\n",
      "OC             89.687500        58.437500      35.625000\n",
      "SA            175.083333       114.750000      62.416667\n",
      "\n",
      "各大陆每种酒类别的消耗中位数：\n",
      "           beer_servings  spirit_servings  wine_servings\n",
      "continent                                               \n",
      "AF                  32.0              3.0            2.0\n",
      "AS                  17.5             16.0            1.0\n",
      "EU                 219.0            122.0          128.0\n",
      "OC                  52.5             37.0            8.5\n",
      "SA                 162.5            108.5           12.0\n"
     ]
    }
   ],
   "source": [
    "import pandas as pd\n",
    "\n",
    "# 1. 读取数据文件\n",
    "# 文件路径，根据实际情况修改\n",
    "file_path = r\"D:\\Ye-PT\\day3\\exercise_data\\drinks.csv\"  \n",
    "# 利用 pandas 的 read_csv 函数读取 CSV 文件，转化为 DataFrame\n",
    "df = pd.read_csv(file_path)  \n",
    "\n",
    "# 2. 找出平均啤酒消耗最多的大陆\n",
    "# 按 continent 分组，对 beer_servings 列求均值，再找出均值最大的大陆\n",
    "continent_beer_mean = df.groupby('continent')['beer_servings'].mean()\n",
    "max_beer_continent = continent_beer_mean.idxmax()\n",
    "print(f\"平均消耗啤酒最多的大陆是：{max_beer_continent}\")\n",
    "\n",
    "# 3. 输出每个大陆红酒消耗的描述性统计值\n",
    "# 按 continent 分组，对 wine_servings 列进行描述性统计\n",
    "wine_stats = df.groupby('continent')['wine_servings'].describe()\n",
    "print(\"\\n各大陆红酒消耗（wine_servings）的描述性统计值：\")\n",
    "print(wine_stats)\n",
    "\n",
    "# 4. 输出每个大陆每种酒类别的消耗平均值\n",
    "# 按 continent 分组，对啤酒、烈酒、红酒消耗列求均值\n",
    "category_mean = df.groupby('continent')[\n",
    "    ['beer_servings', 'spirit_servings', 'wine_servings']].mean()\n",
    "print(\"\\n各大陆每种酒类别的消耗平均值：\")\n",
    "print(category_mean)\n",
    "\n",
    "# 5. 输出每个大陆每种酒类别的消耗中位数\n",
    "# 按 continent 分组，对啤酒、烈酒、红酒消耗列求中位数\n",
    "category_median = df.groupby('continent')[\n",
    "    ['beer_servings', 'spirit_servings', 'wine_servings']].median()\n",
    "print(\"\\n各大陆每种酒类别的消耗中位数：\")\n",
    "print(category_median)"
   ]
  },
  {
   "cell_type": "code",
   "execution_count": null,
   "id": "a489671f-f98e-4112-add1-80e6b71c5965",
   "metadata": {},
   "outputs": [],
   "source": []
  }
 ],
 "metadata": {
  "kernelspec": {
   "display_name": "Python [conda env:base] *",
   "language": "python",
   "name": "conda-base-py"
  },
  "language_info": {
   "codemirror_mode": {
    "name": "ipython",
    "version": 3
   },
   "file_extension": ".py",
   "mimetype": "text/x-python",
   "name": "python",
   "nbconvert_exporter": "python",
   "pygments_lexer": "ipython3",
   "version": "3.11.7"
  }
 },
 "nbformat": 4,
 "nbformat_minor": 5
}
