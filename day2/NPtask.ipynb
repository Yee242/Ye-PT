{
 "cells": [
  {
   "cell_type": "code",
   "execution_count": 7,
   "id": "7cac86fb-9084-47f0-b352-1801b47c26f7",
   "metadata": {},
   "outputs": [
    {
     "name": "stdout",
     "output_type": "stream",
     "text": [
      "原始数组：\n",
      "[[ 1  2  3  4]\n",
      " [ 5  6  7  8]\n",
      " [ 9 10 11 12]]\n",
      "形状：(3, 4)\n",
      "维度：2\n",
      "数据类型：int32\n",
      "\n",
      "乘以2后的数组：\n",
      "[[ 2  4  6  8]\n",
      " [10 12 14 16]\n",
      " [18 20 22 24]]\n",
      "\n",
      "重塑为4x3后的数组：\n",
      "[[ 1  2  3]\n",
      " [ 4  5  6]\n",
      " [ 7  8  9]\n",
      " [10 11 12]]\n"
     ]
    }
   ],
   "source": [
    "import numpy as np\n",
    "\n",
    "# 1. 创建3x4的二维数组（元素1~12）\n",
    "array = np.arange(1, 13).reshape(3, 4)\n",
    "\n",
    "# 打印数组的形状、维度和数据类型\n",
    "print(\"原始数组：\")\n",
    "print(array)\n",
    "print(f\"形状：{array.shape}\")    # 输出：(3, 4)\n",
    "print(f\"维度：{array.ndim}\")     # 输出：2\n",
    "print(f\"数据类型：{array.dtype}\") # 输出：int32\n",
    "\n",
    "# 2. 将数组元素乘以2\n",
    "array_x2 = array * 2\n",
    "print(\"\\n乘以2后的数组：\")\n",
    "print(array_x2)\n",
    "\n",
    "# 3. 将数组重塑为4x3的形状\n",
    "reshaped_array = array.reshape(4, 3)\n",
    "print(\"\\n重塑为4x3后的数组：\")\n",
    "print(reshaped_array)"
   ]
  },
  {
   "cell_type": "code",
   "execution_count": 3,
   "id": "2cd3213b-8c90-4ebc-928f-73dc46096769",
   "metadata": {},
   "outputs": [
    {
     "name": "stdout",
     "output_type": "stream",
     "text": [
      "第2行元素： [5 6 7 8]\n",
      "第3列元素： [ 3  7 11 15]\n",
      "子数组：\n",
      " [[2 3]\n",
      " [6 7]]\n",
      "替换后的数组：\n",
      " [[ 1  2  3  4]\n",
      " [ 5  6  7  8]\n",
      " [ 9 10  0  0]\n",
      " [ 0  0  0  0]]\n"
     ]
    }
   ],
   "source": [
    "import numpy as np\n",
    "\n",
    "# 给定的4x4数组\n",
    "array = np.array([[1, 2, 3, 4],\n",
    "                  [5, 6, 7, 8],\n",
    "                  [9, 10, 11, 12],\n",
    "                  [13, 14, 15, 16]])\n",
    "\n",
    "# 1. 提取第2行所有元素（索引为1，因为Python索引从0开始）\n",
    "row_2 = array[1, :]\n",
    "print(\"第2行元素：\", row_2)  # 输出：[5 6 7 8]\n",
    "\n",
    "# 2. 提取第3列所有元素（索引为2）\n",
    "col_3 = array[:, 2]\n",
    "print(\"第3列元素：\", col_3)  # 输出：[ 3  7 11 15]\n",
    "\n",
    "# 3. 提取子数组（第1、2行和第2、3列）\n",
    "# 行索引0-1，列索引1-2\n",
    "sub_array = array[0:2, 1:3]\n",
    "print(\"子数组：\\n\", sub_array)  # 输出：[[2 3] [6 7]]\n",
    "\n",
    "# 4. 将大于10的元素替换为0\n",
    "mask = array > 10\n",
    "array[mask] = 0\n",
    "print(\"替换后的数组：\\n\", array)\n",
    "# 输出：\n",
    "# [[ 1  2  3  4]\n",
    "#  [ 5  6  7  8]\n",
    "#  [ 9 10  0  0]\n",
    "#  [ 0  0  0  0]]"
   ]
  },
  {
   "cell_type": "code",
   "execution_count": 5,
   "id": "0b48d81c-ebc5-402b-b411-e6b4e9577213",
   "metadata": {},
   "outputs": [
    {
     "name": "stdout",
     "output_type": "stream",
     "text": [
      "数组A：\n",
      " [[1 2]\n",
      " [3 4]\n",
      " [5 6]]\n",
      "数组B： [10 20]\n",
      "\n",
      "A + B：\n",
      " [[11 22]\n",
      " [13 24]\n",
      " [15 26]]\n",
      "\n",
      "A * B：\n",
      " [[ 10  40]\n",
      " [ 30  80]\n",
      " [ 50 120]]\n",
      "\n",
      "A的每行与B的点积： [ 50 110 170]\n"
     ]
    }
   ],
   "source": [
    "import numpy as np\n",
    "\n",
    "# 创建数组A（3x2）和数组B（1x2）\n",
    "A = np.arange(1, 7).reshape(3, 2)\n",
    "B = np.array([10, 20])\n",
    "\n",
    "print(\"数组A：\\n\", A)\n",
    "print(\"数组B：\", B)\n",
    "\n",
    "# 1. 逐元素相加（广播）\n",
    "sum_result = A + B\n",
    "print(\"\\nA + B：\\n\", sum_result)\n",
    "\n",
    "# 2. 逐元素相乘（广播）\n",
    "multiply_result = A * B\n",
    "print(\"\\nA * B：\\n\", multiply_result)\n",
    "\n",
    "# 3. 计算A的每一行与B的点积\n",
    "dot_result = np.sum(A * B, axis=1)\n",
    "# 或者使用：dot_result = np.dot(A, B)\n",
    "print(\"\\nA的每行与B的点积：\", dot_result)"
   ]
  },
  {
   "cell_type": "code",
   "execution_count": null,
   "id": "dd13cda2-8f10-46d5-ae7b-c3cf5f067be4",
   "metadata": {},
   "outputs": [],
   "source": []
  }
 ],
 "metadata": {
  "kernelspec": {
   "display_name": "Python [conda env:base] *",
   "language": "python",
   "name": "conda-base-py"
  },
  "language_info": {
   "codemirror_mode": {
    "name": "ipython",
    "version": 3
   },
   "file_extension": ".py",
   "mimetype": "text/x-python",
   "name": "python",
   "nbconvert_exporter": "python",
   "pygments_lexer": "ipython3",
   "version": "3.11.7"
  }
 },
 "nbformat": 4,
 "nbformat_minor": 5
}
